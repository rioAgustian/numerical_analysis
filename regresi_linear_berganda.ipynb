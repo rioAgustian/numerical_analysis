{
  "nbformat": 4,
  "nbformat_minor": 0,
  "metadata": {
    "colab": {
      "name": "regresi_linear_berganda.ipynb",
      "provenance": [],
      "authorship_tag": "ABX9TyP/on25hSQaImCNYZfWUcnj",
      "include_colab_link": true
    },
    "kernelspec": {
      "name": "python3",
      "display_name": "Python 3"
    },
    "language_info": {
      "name": "python"
    }
  },
  "cells": [
    {
      "cell_type": "markdown",
      "metadata": {
        "id": "view-in-github",
        "colab_type": "text"
      },
      "source": [
        "<a href=\"https://colab.research.google.com/github/rioAgustian/Numerical-Analysis/blob/main/regresi_linear_berganda.ipynb\" target=\"_parent\"><img src=\"https://colab.research.google.com/assets/colab-badge.svg\" alt=\"Open In Colab\"/></a>"
      ]
    },
    {
      "cell_type": "markdown",
      "source": [
        "## Tentang Kode\n",
        "\n",
        "Salam. Perkenalkan, saya adalah Rio Agustian Gilang Fernando 4211420004, saya adalah mahasiswa fisika UNNES angkatan tahun 2020. Kode program berikut ditujukan untuk menghitung regresi lanjar berganda dan juga koefisien korelasi data yang bersangkutan. Dari hasil run program didapati bahwa\n",
        "\n",
        "\n",
        "\n",
        "```\n",
        "y = 6.3532 + 4.0346x1 - 4.2243x2\n",
        "\n",
        "r = 0.7875\n",
        "```\n",
        "\n"
      ],
      "metadata": {
        "id": "QS8yeppUrfgO"
      }
    },
    {
      "cell_type": "markdown",
      "source": [
        "## Model\n",
        "\n",
        "\\begin{align}\n",
        "y = a_0 + a_1x_1+a_2x_2\n",
        "\\end{align}\n",
        "\n",
        "Cek:\n",
        "\n",
        "https://simdos.unud.ac.id/uploads/file_pendidikan_1_dir/5f0221d2b0bb7ced1d61798fab7f4ad3.pdf"
      ],
      "metadata": {
        "id": "QfodI669dAy0"
      }
    },
    {
      "cell_type": "code",
      "execution_count": 47,
      "metadata": {
        "id": "dWOAsBxHc4lW"
      },
      "outputs": [],
      "source": [
        "# data\n",
        "import numpy as np\n",
        "x1 = np.array([0, 2, 2.5, 1, 4, 7])\n",
        "x2 = np.array([0, 1, 2, 3, 4, 2])\n",
        "y  = np.array([5, 10, 9, 0, 3, 27])"
      ]
    },
    {
      "cell_type": "markdown",
      "source": [
        "## Persamaan dalam bentuk matriks\n",
        "\n",
        "\\begin{align} \n",
        "        \\begin{vmatrix}\n",
        "        n & \\Sigma x_{1,i} & \\Sigma x_{2,i} \\\\\n",
        "        \\Sigma x_{1,i} & \\Sigma x^2_{1,i} & \\Sigma x_{1,i}x_{2,i}\\\\\n",
        "        \\Sigma x_{2,i} & \\Sigma x_{1,i}x_{2,i} & \\Sigma x^2_{2,i}\n",
        "        \\end{vmatrix} \n",
        "        \\begin{vmatrix} a_0 \\\\ a_1 \\\\ a_2 \\end{vmatrix} =\n",
        "        \\begin{vmatrix} \\Sigma y_i \\\\ \\Sigma x_{i,1}y_i \\\\ \\Sigma x_{2,i}y_i \\end{vmatrix}\n",
        "    \\end{align}"
      ],
      "metadata": {
        "id": "bnQO9yz4eSPd"
      }
    },
    {
      "cell_type": "code",
      "source": [
        "# beberapa perhitungan\n",
        "n = 6\n",
        "sx1 = sum(x1)\n",
        "sx2 = sum(x2)\n",
        "sy  = sum(y) \n",
        "sx1_sqr = sum(x1**2)\n",
        "sx2_sqr = sum(x2**2)\n",
        "sy_sqr  = sum(y**2)\n",
        "sx1y = sum(x1*y)\n",
        "sx2y = sum(x2*y)\n",
        "sx1x2 = sum(x1*x2)"
      ],
      "metadata": {
        "id": "OotrIfSEiN92"
      },
      "execution_count": 48,
      "outputs": []
    },
    {
      "cell_type": "code",
      "source": [
        "# matriks berikut dibuat untuk, mentukan nilai a0, a1, dan a2\n",
        "A = [[n,   sx1,     sx2  ],\n",
        "     [sx1, sx1_sqr, sx1x2],\n",
        "     [sx2, sx1x2, sx2_sqr]]\n",
        "B = [sy, sx1y, sx2y]\n",
        "\n",
        "M  = [[n,  sx1,     sx2    ],\n",
        "     [sx1, sx1_sqr, sx1x2  ],\n",
        "     [sx2, sx1x2,   sx2_sqr]]\n",
        "M1 = [[sy,   sx1,     sx2 ],\n",
        "     [sx1y, sx1_sqr, sx1x2],\n",
        "     [sx2y, sx1x2, sx2_sqr]]\n",
        "M2 = [[n,   sy,  sx2    ],\n",
        "     [sx1, sx1y, sx1x2  ],\n",
        "     [sx2, sx2y, sx2_sqr]]\n",
        "M3 = [[n,   sx1,    sy  ],\n",
        "     [sx1, sx1_sqr, sx1y],\n",
        "     [sx2, sx1x2,   sx2y]]"
      ],
      "metadata": {
        "id": "d9QRDFNxqxoj"
      },
      "execution_count": 49,
      "outputs": []
    },
    {
      "cell_type": "code",
      "source": [
        "# nilai a0, a1, dan a2\n",
        "from numpy.linalg import det\n",
        "a0 = det(M1)/det(M)\n",
        "a1 = det(M2)/det(M)\n",
        "a2 = det(M3)/det(M)"
      ],
      "metadata": {
        "id": "8-mOsEVgmBCI"
      },
      "execution_count": 50,
      "outputs": []
    },
    {
      "cell_type": "markdown",
      "source": [
        "## Koefisien korelasi\n",
        "\n",
        "\\begin{align}\n",
        "r = \\sqrt{\n",
        "  \\frac{b_1\\Sigma x_1y + b2 \\Sigma x_2y}{\\Sigma y^2}\n",
        "}\n",
        "\\end{align}"
      ],
      "metadata": {
        "id": "hlC37ofJq8ro"
      }
    },
    {
      "cell_type": "code",
      "source": [
        "# koefisien korelasi\n",
        "r = np.sqrt(\n",
        "    ((a1*sx1y) + (a2*sx2y)) / sy_sqr\n",
        ")"
      ],
      "metadata": {
        "id": "2eEy8QG8rYdj"
      },
      "execution_count": 51,
      "outputs": []
    },
    {
      "cell_type": "code",
      "source": [
        "# hasil \n",
        "# maksud \"4\" di samping f adalah banyaknya digit di belakang koma\n",
        "# silahkan ubah untuk sesuai keperluan\n",
        "a = \"Persamaan: \\ny = {0:0.4f} + {1:0.4f}x1 {2:0.4f}x2\".format(a0,a1,a2)\n",
        "b = \"\\n\\nKoefisien korelasi: \\nr = {0:0.4f}\".format(r)\n",
        "print(a + b)"
      ],
      "metadata": {
        "colab": {
          "base_uri": "https://localhost:8080/"
        },
        "id": "06OTGXIvnX1z",
        "outputId": "218b76f3-b08b-4e62-bba5-fb50ff34a714"
      },
      "execution_count": 52,
      "outputs": [
        {
          "output_type": "stream",
          "name": "stdout",
          "text": [
            "Persamaan: \n",
            "y = 6.3532 + 4.0346x1 -4.2243x2\n",
            "\n",
            "Koefisien korelasi: \n",
            "r = 0.7875\n"
          ]
        }
      ]
    },
    {
      "cell_type": "markdown",
      "source": [
        "## Kode berikut sama dengan kode sebelumnya, tetapi ditulis dalam satu blok"
      ],
      "metadata": {
        "id": "5gj-6G7BtvSl"
      }
    },
    {
      "cell_type": "code",
      "source": [
        "# data\n",
        "import numpy as np\n",
        "x1 = np.array([0, 2, 2.5, 1, 4, 7])\n",
        "x2 = np.array([0, 1, 2, 3, 4, 2])\n",
        "y  = np.array([5, 10, 9, 0, 3, 27])\n",
        "\n",
        "# beberapa perhitungan\n",
        "n = 6\n",
        "sx1 = sum(x1)\n",
        "sx2 = sum(x2)\n",
        "sy  = sum(y) \n",
        "sx1_sqr = sum(x1**2)\n",
        "sx2_sqr = sum(x2**2)\n",
        "sy_sqr  = sum(y**2)\n",
        "sx1y = sum(x1*y)\n",
        "sx2y = sum(x2*y)\n",
        "sx1x2 = sum(x1*x2)\n",
        "# matriks berikut dibuat untuk, mentukan nilai a0, a1, dan a2\n",
        "A = [[n,   sx1,     sx2  ],\n",
        "     [sx1, sx1_sqr, sx1x2],\n",
        "     [sx2, sx1x2, sx2_sqr]]\n",
        "B = [sy, sx1y, sx2y]\n",
        "\n",
        "M  = [[n,  sx1,     sx2    ],\n",
        "     [sx1, sx1_sqr, sx1x2  ],\n",
        "     [sx2, sx1x2,   sx2_sqr]]\n",
        "M1 = [[sy,   sx1,     sx2 ],\n",
        "     [sx1y, sx1_sqr, sx1x2],\n",
        "     [sx2y, sx1x2, sx2_sqr]]\n",
        "M2 = [[n,   sy,  sx2    ],\n",
        "     [sx1, sx1y, sx1x2  ],\n",
        "     [sx2, sx2y, sx2_sqr]]\n",
        "M3 = [[n,   sx1,    sy  ],\n",
        "     [sx1, sx1_sqr, sx1y],\n",
        "     [sx2, sx1x2,   sx2y]]\n",
        "\n",
        "# nilai a0, a1, dan a2\n",
        "from numpy.linalg import det\n",
        "a0 = det(M1)/det(M)\n",
        "a1 = det(M2)/det(M)\n",
        "a2 = det(M3)/det(M)\n",
        "\n",
        "# koefisien korelasi\n",
        "r = np.sqrt(((a1*sx1y) + (a2*sx2y)) / sy_sqr)\n",
        "\n",
        "# hasil \n",
        "# maksud \"4\" di samping f adalah banyaknya digit di belakang koma\n",
        "# silahkan ubah untuk sesuai keperluan\n",
        "a = \"Persamaan: \\ny = {0:0.4f} + {1:0.4f}x1 {2:0.4f}x2\".format(a0,a1,a2)\n",
        "b = \"\\n\\nKoefisien korelasi: \\nr = {0:0.4f}\".format(r)\n",
        "print(a + b)"
      ],
      "metadata": {
        "colab": {
          "base_uri": "https://localhost:8080/"
        },
        "id": "PjPr779ftWmg",
        "outputId": "b32c1d62-8b6c-40ee-f62f-e8390c9094bb"
      },
      "execution_count": 53,
      "outputs": [
        {
          "output_type": "stream",
          "name": "stdout",
          "text": [
            "Persamaan: \n",
            "y = 6.3532 + 4.0346x1 -4.2243x2\n",
            "\n",
            "Koefisien korelasi: \n",
            "r = 0.7875\n"
          ]
        }
      ]
    }
  ]
}
