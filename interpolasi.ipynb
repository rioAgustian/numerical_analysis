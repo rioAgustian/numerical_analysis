{
  "nbformat": 4,
  "nbformat_minor": 0,
  "metadata": {
    "colab": {
      "name": "Interpolasi.ipynb",
      "provenance": [],
      "collapsed_sections": [],
      "authorship_tag": "ABX9TyPzmnNpqE9ARfAshsmaLETb",
      "include_colab_link": true
    },
    "kernelspec": {
      "name": "python3",
      "display_name": "Python 3"
    },
    "language_info": {
      "name": "python"
    }
  },
  "cells": [
    {
      "cell_type": "markdown",
      "metadata": {
        "id": "view-in-github",
        "colab_type": "text"
      },
      "source": [
        "<a href=\"https://colab.research.google.com/github/rioAgustian/Numerical-Analysis/blob/main/Interpolasi.ipynb\" target=\"_parent\"><img src=\"https://colab.research.google.com/assets/colab-badge.svg\" alt=\"Open In Colab\"/></a>"
      ]
    },
    {
      "cell_type": "markdown",
      "source": [
        "# **Interpolasi**\n",
        "\n",
        "**Rio Agustian Gilang Fernando, 4211420004, Fisika**\n",
        "\n",
        "**Fakultas Matematika dan Ilmu Pengetahuan Alam**\n",
        "\n",
        "**Universitas Negeri Semarang**\n",
        "\n",
        "\n",
        "\n",
        "---\n",
        "\n"
      ],
      "metadata": {
        "id": "X_uIC6e__Ps5"
      }
    },
    {
      "cell_type": "markdown",
      "source": [
        "## **1. Interpolasi Newton**"
      ],
      "metadata": {
        "id": "flx2oV6K_kAm"
      }
    },
    {
      "cell_type": "markdown",
      "source": [
        "Bentuk polinomial newton adalah sebagai berikut.\n",
        "\n",
        "\\begin{align}\n",
        "p_n (x) = a_0 + a_1(x-x_0) + a_2(x-x_0)(x-x_1) + \\dots \\\\\n",
        "+ a_n(x-x_0)(x-x_1)\\dots(x-x_n)\n",
        "\\end{align}\n",
        "\n",
        "Nilai dari koefisien $a_n$ adalah\n",
        "\n",
        "\\begin{align}\n",
        "a_1 = \\frac{y_1 - y_0}{x_1 - x_0} = f[x_1 , x_0]\n",
        "\\end{align}\n",
        "\n",
        "\\begin{align}\n",
        "a_2 = \\frac{\\frac{y_2 - y_1}{x_2 - x_1} - \\frac{y_1 - y_0}{x_1 - x_0}}{x_2 - x_0} = \\frac{f[x_2,x_1] - f[x_1,x_0]}{x_2-x_0} = f[x_2, x_1 , x_0] \n",
        "\\end{align}\n",
        "\n",
        "Dengan demikian, dapat dibuat sebuah matriks dengan nilai\n",
        "\n",
        "\n",
        "\\begin{split}\n",
        "\\begin{array}{cccccc}\n",
        " y_0 & f[x_1,x_0] & f[x_2, x_1,x_0] & f[x_3, x_2, x_1,x_0] & f[x_4, x_3, x_2, x_1,x_0]\\\\\n",
        " y_1 & f[x_2,x_1] & f[x_3, x_2,x_1] & f[x_4, x_3, x_2, x_1] & 0\\\\\n",
        " y_2 & f[x_3,x_2] & f[x_4, x_3,x_2] & 0          & 0 \\\\\n",
        " y_3 & f[x_4,x_3] & 0 & 0 & 0            \\\\\n",
        " y_4 & 0 & 0 & 0  & 0  \\\\\n",
        "\\end{array}\n",
        "\\end{split}"
      ],
      "metadata": {
        "id": "pKLKyf5aBHD7"
      }
    },
    {
      "cell_type": "code",
      "source": [
        "import numpy as np\n",
        "import matplotlib.pyplot as plt"
      ],
      "metadata": {
        "id": "jA9EJGlMrFD5"
      },
      "execution_count": 47,
      "outputs": []
    },
    {
      "cell_type": "code",
      "execution_count": 48,
      "metadata": {
        "id": "vmyt9I_PuYCO",
        "colab": {
          "base_uri": "https://localhost:8080/",
          "height": 0
        },
        "outputId": "9c1b72a9-23df-4ea7-8e48-f0d6a40d4cfd"
      },
      "outputs": [
        {
          "output_type": "stream",
          "name": "stdout",
          "text": [
            "[ 7.          3.         -1.75        0.20833333]\n"
          ]
        }
      ],
      "source": [
        "# data yang akan diinterpolasi\n",
        "x = np.array([1, 3, 5, 7])\n",
        "y = np.array([7, 13, 5, -7])\n",
        "\n",
        "n = len(y)\n",
        "koef = np.zeros([n, n])\n",
        "\n",
        "# kolom pertama dibuat sebagai y\n",
        "koef[:, 0] = y\n",
        "\n",
        "# menghitung fn[x1,x2,...,xn]\n",
        "for j in range(1, n):\n",
        "    for i in range(n-j):\n",
        "        koef[i][j] = (koef[i+1][j-1] - koef[i][j-1]) / (x[i+j]-x[i])\n",
        "\n",
        "# koefisien interpolasi Newton\n",
        "x1 = koef[0, :]\n",
        "print(x1)"
      ]
    },
    {
      "cell_type": "markdown",
      "source": [
        "Misal, interpolasi yang akan dipakai adalah interpolasi orde-3. Bentuk polinomialnya adalah sebagai berikut.\n",
        "\n",
        "\\begin{align}\n",
        "p_n (x) = a_0 + a_1(x-x_0) + a_2(x-x_0)(x-x_1) + a_3(x-x_0)(x-x_1)(x-x_3)\n",
        "\\end{align}\n",
        "\n",
        "Dapat dibuat iterasi dengan bentuk\n",
        "\n",
        "\n",
        "\n",
        "```\n",
        "n = banyak data - 1 \n",
        "p = a3\n",
        "for k in range(1, n+1):\n",
        "  p = koef[n-k] + (x - x_data[n-k]) * p\n",
        "```\n",
        "\n",
        "Keluaranya untuk setiap iterasi adalah \n",
        "\n",
        "Iterasi ke-1\n",
        "\n",
        "\\begin{align}\n",
        "f_1 (x) = a_2 + (x-x_2) a_3 \n",
        "\\end{align}\n",
        "\n",
        "Iterasi ke-2\n",
        "\n",
        "\\begin{align}\n",
        "f_2 (x) & = a_1 + (x-x_1) f_1(x) \\\\\n",
        "f_2 (x) & = a_1 + (x-x_1) (a_2 + (x-x_2) a_3) \\\\\n",
        "f_2 (x) & = a_1 + a_2 (x-x_1)  +  a_3 (x-x_1)(x-x_2)\n",
        "\\end{align}\n",
        "\n",
        "Iterasi ke-3\n",
        "\n",
        "\\begin{align}\n",
        "f_3 (x) & = a_0 + (x-x_0) f_2(x) \\\\\n",
        "f_3 (x) & = a_0 + (x-x_0) (a_1 + a_2 (x-x_1)  +  a_3 (x-x_1)(x-x_2)) \\\\\n",
        "f_3 (x) & = a_0 + a_1(x-x_0) + a_2(x-x_0)(x-x_1) + a_3(x-x_0)(x-x_1)(x-x_3)\n",
        "\\end{align}"
      ],
      "metadata": {
        "id": "mv4Hy6M-WqiJ"
      }
    },
    {
      "cell_type": "code",
      "source": [
        "# interpolasi di titik \"t\"\n",
        "t = np.linspace(0, 10, 20)\n",
        "\n",
        "n = len(x) - 1 \n",
        "p = x1[n]\n",
        "for k in range(1, n+1):\n",
        "  p = x1[n-k] + (t - x[n-k]) * p\n",
        "\n",
        "# titik-titik hasil interpolasi\n",
        "y_int = p\n",
        "\n",
        "# plotting \n",
        "plt.plot(x, y, \"k+\", markersize=10)\n",
        "plt.plot(t, y_int); plt.show()"
      ],
      "metadata": {
        "id": "OMbPnzCr_35P",
        "colab": {
          "base_uri": "https://localhost:8080/",
          "height": 265
        },
        "outputId": "7d0cacf3-cda1-485c-93b5-f163e60c6561"
      },
      "execution_count": 49,
      "outputs": [
        {
          "output_type": "display_data",
          "data": {
            "text/plain": [
              "<Figure size 432x288 with 1 Axes>"
            ],
            "image/png": "[encoded data removed]"
          },
          "metadata": {
            "needs_background": "light"
          }
        }
      ]
    },
    {
      "cell_type": "code",
      "source": [
        "# menyederhanakan kode\n",
        "def new_interp(x, y, t, plot=True):\n",
        "  \"\"\"\n",
        "  Menghitung nilai interpolasi di titik yang ditentukan \n",
        "  menggunakan interpolasi Newton.\n",
        "\n",
        "  Parameters\n",
        "  ----------\n",
        "  x : variabel independen / x-axis\n",
        "  y : variabel dipenden / y-axis\n",
        "  t : titik interpolasi yang diinginkan\n",
        "  \"\"\"\n",
        "  # menentukan koefisien polinom\n",
        "  n = len(y)\n",
        "  koef = np.zeros([n, n])\n",
        "  koef[:, 0] = y\n",
        "  for j in range(1, n):\n",
        "      for i in range(n-j):\n",
        "          koef[i][j] = (koef[i+1][j-1] - koef[i][j-1]) / (x[i+j]-x[i])\n",
        "  c = koef[0, :]\n",
        "\n",
        "  # menghitung interpolasi di \"t\"\n",
        "  n = len(x) - 1 \n",
        "  p = c[n]\n",
        "  for k in range(1, n+1):\n",
        "    p = c[n-k] + (t - x[n-k]) * p\n",
        "  \n",
        "  # plotting\n",
        "  if plot == True:\n",
        "    plt.scatter(x, y, color=\"red\", marker=\"+\", s=200)\n",
        "    plt.plot(t, p)\n",
        "    plt.show()\n",
        "  else:\n",
        "    return p\n",
        "\n",
        "help(new_interp)"
      ],
      "metadata": {
        "id": "9kJLqlBgaYTN",
        "colab": {
          "base_uri": "https://localhost:8080/",
          "height": 0
        },
        "outputId": "7d2e159f-ce8c-4b33-87e2-d1470d2548e4"
      },
      "execution_count": 50,
      "outputs": [
        {
          "output_type": "stream",
          "name": "stdout",
          "text": [
            "Help on function new_interp in module __main__:\n",
            "\n",
            "new_interp(x, y, t, plot=True)\n",
            "    Menghitung nilai interpolasi di titik yang ditentukan \n",
            "    menggunakan interpolasi Newton.\n",
            "    \n",
            "    Parameters\n",
            "    ----------\n",
            "    x : variabel independen / x-axis\n",
            "    y : variabel dipenden / y-axis\n",
            "    t : titik interpolasi yang diinginkan\n",
            "\n"
          ]
        }
      ]
    },
    {
      "cell_type": "code",
      "source": [
        "# tes function yang telah dibuat\n",
        "x = np.random.uniform(0, 10, 4)\n",
        "y = np.random.uniform(0, 10, 4)\n",
        "t = np.linspace(-1, 10, 30)\n",
        "\n",
        "new_interp(x, y, t, plot=True)"
      ],
      "metadata": {
        "colab": {
          "base_uri": "https://localhost:8080/",
          "height": 265
        },
        "id": "iasv8xINpPWS",
        "outputId": "8ba41761-454d-48c6-e4c9-64c4979b944e"
      },
      "execution_count": 51,
      "outputs": [
        {
          "output_type": "display_data",
          "data": {
            "text/plain": [
              "<Figure size 432x288 with 1 Axes>"
            ],
            "image/png": "[encoded data removed]"
          },
          "metadata": {
            "needs_background": "light"
          }
        }
      ]
    },
    {
      "cell_type": "markdown",
      "source": [
        "### **Referensi**\n",
        "\n",
        "\n",
        "\n",
        "\n",
        "1. *Interpolasi Newton Dalam Python*. Diunggah oleh \n",
        "Yoyok Adisetio Laksono, 20 April 2021. https://youtu.be/qZtw1c_ZvKg\n",
        "\n",
        "2. *Math 452, Numerical Methods: Polynomial Interpolation Python Programs.* http://math.oit.edu/~paulr/Upper/Math_45x/Math_452/interpolation.pdf\n",
        "\n",
        "\n",
        "3. *Metode Numerik - 8. Polinom Newton (Coding menggunakan Python)*. Diunggah oleh Kodepy Coding, 4 November 2020. https://youtu.be/EfvzERO4fkM\n",
        "\n",
        "4. Munir, Rinaldi. (2021). *Metode Numerik (Revisi Kelima)*. Bandung: Institut Teknologi Bandung.\n",
        "\n",
        "5. Kong, Q., Siauw, T., dan Bayen, A. (2020). *Newton’s Polynomial Interpolation.* https://pythonnumericalmethods.berkeley.edu/notebooks/chapter17.05-Newtons-Polynomial-Interpolation.html\n",
        "\n",
        "\n",
        "\n"
      ],
      "metadata": {
        "id": "OvwoLILNzUP1"
      }
    },
    {
      "cell_type": "markdown",
      "source": [
        "## **2. Interpolasi Lagrange**"
      ],
      "metadata": {
        "id": "F4EjzmQF9kZf"
      }
    },
    {
      "cell_type": "markdown",
      "source": [
        "Bentuk polinomial Lagrange adalah sebagai berikut.\n",
        "\n",
        "\\begin{align}\n",
        "p_n (x) = y_0 L_0(x) +  y_1 L_1(x) +  y_2 L_2(x) + \\dots +  y_n L_n(x)\n",
        "\\end{align}\n",
        "\n",
        "dengan\n",
        "\n",
        "\\begin{align}\n",
        "L_i(x) = \\prod_{j = 1, j\\ne i}^n\\frac{x - x_j}{x_i - x_j}\n",
        "\\end{align}"
      ],
      "metadata": {
        "id": "ESAtPvAlIT7b"
      }
    },
    {
      "cell_type": "markdown",
      "source": [
        "Misal, interpolasi yang akan dipakai adalah inyerpolasi orde-3. Bentuk polinomialnya adalah sebagai berikut.\n",
        "\n",
        "\\begin{align}\n",
        "p_n (x) = y_0 L_0(x) +  y_1 L_1(x) +  y_2 L_2(x) +  y_3 L_n(x)\n",
        "\\end{align}\n",
        "\n",
        "Dapat dibuat iterasi dalam bentuk\n",
        "\n",
        "\n",
        "\n",
        "```\n",
        "n = banyak data\n",
        "y_pol = 0\n",
        "for i in range(n):\n",
        "    p = 1\n",
        "    for j in range(n):\n",
        "        if i != j:\n",
        "            p = p * (t - x[j])/(x[i] - x[j])\n",
        "    y_pol = y_pol + p * y[i] \n",
        "```\n",
        "\n",
        "Keluaranya untuk setiap iterasi ```j``` dengan ```i = 0``` adalah \n",
        "\n",
        "Iterasi ke-1\n",
        "\n",
        "\\begin{align}\n",
        "p_1 (x) = \\frac{(x-x_1)}{(x_0-x_1)}\n",
        "\\end{align}\n",
        "\n",
        "Iterasi ke-2\n",
        "\n",
        "\\begin{align}\n",
        "p_2 (x) &= p_1(x) \\frac{(x-x_2)}{(x_0-x_2)} \\\\\n",
        "p_2 (x) &= \\frac{(x-x_1)}{(x_0-x_1)} \\frac{(x-x_2)}{(x_0-x_1)}\n",
        "\\end{align}\n",
        "\n",
        "Iterasi ke-3\n",
        "\n",
        "\\begin{align}\n",
        "p_3 (x) &= p_2(x) \\frac{(x-x_3)}{(x_0-x_3)} \\\\\n",
        "p_3 (x) &= \\frac{(x-x_1)}{(x_0-x_1)} \\frac{(x-x_2)}{(x_0-x_2)} \\frac{(x-x_3)}{(x_0-x_3)}\n",
        "\\end{align}\n",
        "\n",
        "Keluaranya untuk setiap iterasi ```j``` dengan ```i = 1``` adalah \n",
        "\n",
        "Iterasi ke-1\n",
        "\n",
        "\\begin{align}\n",
        "p_1 (x) = \\frac{(x-x_0)}{(x_1-x_0)}\n",
        "\\end{align}\n",
        "\n",
        "Iterasi ke-2\n",
        "\n",
        "\\begin{align}\n",
        "p_2 (x) &= \\frac{(x-x_0)}{(x_1-x_0)} \\frac{(x-x_2)}{(x_1-x_1)}\n",
        "\\end{align}\n",
        "\n",
        "Iterasi ke-3\n",
        "\n",
        "\\begin{align}\n",
        "p_3 (x) &= \\frac{(x-x_0)}{(x_1-x_0)} \\frac{(x-x_2)}{(x_1-x_2)} \\frac{(x-x_3)}{(x_1-x_3)}\n",
        "\\end{align}"
      ],
      "metadata": {
        "id": "YOyekKxLfQWp"
      }
    },
    {
      "cell_type": "code",
      "source": [
        "def lag_interp(x, y, t, plot=True):\n",
        "  \"\"\"\n",
        "  Menghitung nilai interpolasi di titik yang ditentukan \n",
        "  menggunakan interpolasi Lagrange. \n",
        "\n",
        "  Parameters\n",
        "  ----------\n",
        "  x : variabel independen / x-axis\n",
        "  y : variabel dipenden / y-axis\n",
        "  t : titik interpolasi yang diinginkan\n",
        "  \"\"\"\n",
        "  n = len(x)\n",
        "  y_pol = 0\n",
        "  for i in range(n):\n",
        "      p = 1\n",
        "      for j in range(n):\n",
        "          if i != j:\n",
        "              p = p * (t - x[j])/(x[i] - x[j])\n",
        "      y_pol = y_pol + p * y[i]  \n",
        "\n",
        "  # plotting  \n",
        "  if plot == True:\n",
        "    plt.scatter(x, y, color=\"red\", marker=\"+\", s=200)\n",
        "    plt.plot(t, y_pol)\n",
        "    plt.show()\n",
        "  else:\n",
        "    return y_pol\n",
        "\n",
        "help(lag_interp)"
      ],
      "metadata": {
        "colab": {
          "base_uri": "https://localhost:8080/",
          "height": 0
        },
        "id": "5M8hMuS19gvq",
        "outputId": "2686e4eb-82a2-4358-cfcf-5c1bfc2668de"
      },
      "execution_count": 52,
      "outputs": [
        {
          "output_type": "stream",
          "name": "stdout",
          "text": [
            "Help on function lag_interp in module __main__:\n",
            "\n",
            "lag_interp(x, y, t, plot=True)\n",
            "    Menghitung nilai interpolasi di titik yang ditentukan \n",
            "    menggunakan interpolasi Lagrange. \n",
            "    \n",
            "    Parameters\n",
            "    ----------\n",
            "    x : variabel independen / x-axis\n",
            "    y : variabel dipenden / y-axis\n",
            "    t : titik interpolasi yang diinginkan\n",
            "\n"
          ]
        }
      ]
    },
    {
      "cell_type": "code",
      "source": [
        "# tes function yang telah dibuat\n",
        "x = np.random.uniform(0, 10, 5)\n",
        "y = np.random.uniform(0, 10, 5)\n",
        "t = np.linspace(-1, 10, 100)\n",
        "\n",
        "lag_interp(x, y, t)"
      ],
      "metadata": {
        "colab": {
          "base_uri": "https://localhost:8080/",
          "height": 265
        },
        "id": "ssDf2Sm3qxHg",
        "outputId": "dd07541f-4d98-40fd-f0f0-84d0b3dd1903"
      },
      "execution_count": 53,
      "outputs": [
        {
          "output_type": "display_data",
          "data": {
            "text/plain": [
              "<Figure size 432x288 with 1 Axes>"
            ],
            "image/png": "[encoded data removed]"
          },
          "metadata": {
            "needs_background": "light"
          }
        }
      ]
    },
    {
      "cell_type": "markdown",
      "source": [
        "### **Referensi**\n",
        "\n",
        "1. Code Sansar. *Python Program for Lagrange Interpolation Method (with Output).* https://www.codesansar.com/numerical-methods/python-program-lagrange-interpolation-method.htm\n",
        "\n",
        "2. Lambers, Jim. (2010). *Lagrange Interpolation*. https://www.math.usm.edu/lambers/mat772/fall10/lecture5.pdf\n",
        "3. Munir, Rinaldi. (2021). *Metode Numerik (Revisi Kelima)*. Bandung: Institut Teknologi Bandung.\n",
        "\n",
        "4. Kong, Q., Siauw, T., dan Bayen, A. (2020). *Lagrange Polynomial Interpolation.* https://pythonnumericalmethods.berkeley.edu/notebooks/chapter17.04-Lagrange-Polynomial-Interpolation.html"
      ],
      "metadata": {
        "id": "7sUKqZQQBkws"
      }
    }
  ]
}
