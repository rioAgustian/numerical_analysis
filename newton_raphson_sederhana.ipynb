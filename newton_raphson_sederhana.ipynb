{
  "nbformat": 4,
  "nbformat_minor": 0,
  "metadata": {
    "colab": {
      "name": "newton_raphson_sederhana.ipynb",
      "provenance": [],
      "authorship_tag": "ABX9TyMKyozQ8+Z6lOn2Jqc4GkHb",
      "include_colab_link": true
    },
    "kernelspec": {
      "name": "python3",
      "display_name": "Python 3"
    },
    "language_info": {
      "name": "python"
    }
  },
  "cells": [
    {
      "cell_type": "markdown",
      "metadata": {
        "id": "view-in-github",
        "colab_type": "text"
      },
      "source": [
        "<a href=\"https://colab.research.google.com/github/rioAgustian/Numerical-Analysis/blob/main/newton_raphson_sederhana.ipynb\" target=\"_parent\"><img src=\"https://colab.research.google.com/assets/colab-badge.svg\" alt=\"Open In Colab\"/></a>"
      ]
    },
    {
      "cell_type": "markdown",
      "source": [
        "# Metode Newton-Raphson\n",
        "\n",
        "Algoritma Newton-Raphson adalah sebagai berikut.\n",
        "\n",
        "\\begin{align}\n",
        "x_{i+1} = x_i - \\frac{f(x)}{f'(x)}\n",
        "\\end{align}\n",
        "\n",
        "Jika kita hendak mencari akar persamaan dari \n",
        "\n",
        "\\begin{align}\n",
        "x^2 - 1 = 0\n",
        "\\end{align}\n",
        "\n",
        "Maka bentuk algoritma secara khusus yang dipakai dalam kasus ini menjadi\n",
        "\n",
        "\\begin{align}\n",
        "x_{i+1} = x_i - \\frac{x^2-1}{2x}\n",
        "\\end{align}\n",
        "\n",
        "Dengan \n",
        "\n",
        "* $x_i$ = nilai pendekatan akar fungsi saat iterasi ke-i \n",
        "\n"
      ],
      "metadata": {
        "id": "pcv-JVJNb5M6"
      }
    },
    {
      "cell_type": "markdown",
      "source": [
        "# Analisis Grafik\n",
        "\n",
        "Sebelum menerapkan metode Neton-Raphson, ada baiknya untuk melihat bagaimana bentuk persamaan yang akan kita cari akar-akarnya."
      ],
      "metadata": {
        "id": "h-BYzsMUb9ES"
      }
    },
    {
      "cell_type": "code",
      "execution_count": 3,
      "metadata": {
        "colab": {
          "base_uri": "https://localhost:8080/",
          "height": 265
        },
        "id": "qlWxYmrjbye_",
        "outputId": "45e210ba-f745-413d-8545-62d2bc95ad12"
      },
      "outputs": [
        {
          "output_type": "display_data",
          "data": {
            "text/plain": [
              "<Figure size 432x288 with 1 Axes>"
            ],
            "image/png": "[encoded data removed]"
          },
          "metadata": {
            "needs_background": "light"
          }
        }
      ],
      "source": [
        "import numpy as np\n",
        "import matplotlib.pyplot as plt\n",
        "x = np.linspace(-3, 3, 500)\n",
        "y = x**2 - 1\n",
        "plt.plot(x, y)\n",
        "plt.grid();"
      ]
    },
    {
      "cell_type": "markdown",
      "source": [
        "Dari grafik, dapat dilihat kalau terdapat dua titik yang memotong sumbu x, yaitu di (x1, 0) dan (x2, 0). Tanpa menggunakan analisis numerik kita tahu bahwa akarnya adalah -1 dan 1. Tetapi, jika kita tidak mengetahui akaranya secara tepat, hal terbaik yang dapat kita lakukan adalah memberikan dua tebakan awal. Tebakan pertama kita ambil di dekat x = -1 dan tebakan kedua kita ambil di dekat x = 1. Nantinya, tebakan kita ini akan terkonvergensi ke akar terdekat."
      ],
      "metadata": {
        "id": "N-N-cECYcDh0"
      }
    },
    {
      "cell_type": "code",
      "source": [
        "# tebakan awal\n",
        "x = -50\n",
        "\n",
        "# loop sebanyak N kali\n",
        "N = 10\n",
        "\n",
        "print(\"No.\\tNilai x\")\n",
        "for i in range(N):\n",
        "  x = x - (x**2 - 1)/(2*x)\n",
        "  print(\"{0:0d}\\t{1:0.5f}\".format(i+1, x))"
      ],
      "metadata": {
        "colab": {
          "base_uri": "https://localhost:8080/"
        },
        "id": "06oiVJu8cCIu",
        "outputId": "74302807-2bbb-4a69-9c3f-59dfc34b56d8"
      },
      "execution_count": 2,
      "outputs": [
        {
          "output_type": "stream",
          "name": "stdout",
          "text": [
            "No.\tNilai x\n",
            "1\t-25.01000\n",
            "2\t-12.52499\n",
            "3\t-6.30242\n",
            "4\t-3.23054\n",
            "5\t-1.77004\n",
            "6\t-1.16750\n",
            "7\t-1.01202\n",
            "8\t-1.00007\n",
            "9\t-1.00000\n",
            "10\t-1.00000\n"
          ]
        }
      ]
    }
  ]
}
